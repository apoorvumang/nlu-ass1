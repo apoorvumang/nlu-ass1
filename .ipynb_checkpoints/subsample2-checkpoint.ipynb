{
 "cells": [
  {
   "cell_type": "code",
   "execution_count": 41,
   "metadata": {},
   "outputs": [
    {
     "name": "stdout",
     "output_type": "stream",
     "text": [
      "Getting ids\n",
      "Tokenizing\n",
      "Generating vocab\n",
      "Writing data to files\n"
     ]
    }
   ],
   "source": [
    "import numpy as np\n",
    "import nltk\n",
    "from nltk.corpus import reuters\n",
    "import string\n",
    "import re\n",
    "import random\n",
    "import unicodedata\n",
    "\n",
    "def getTestTrain(fileds):\n",
    "    testids = []\n",
    "    trainids = []\n",
    "    for id in fileids:\n",
    "        tokens = id.split('/')\n",
    "        if tokens[0] == 'training':\n",
    "            trainids.append(id)\n",
    "        else:\n",
    "            if tokens[0] == 'test':\n",
    "                testids.append(id)\n",
    "    return testids, trainids\n",
    "\n",
    "def RepresentsInt(s):\n",
    "    try: \n",
    "        int(s)\n",
    "        return True\n",
    "    except ValueError:\n",
    "        return False\n",
    "\n",
    "# remove numbers. they can be like 100 1090,200 2.123 etc\n",
    "# strategy is to remove punctuation and then check if its an integer\n",
    "def isNumber(word):\n",
    "    word_no_num = re.sub(r'[^\\w\\s]','',word)\n",
    "    if RepresentsInt(word_no_num):\n",
    "        return True\n",
    "    else:\n",
    "        return False\n",
    "\n",
    "#tokenizes raw strings\n",
    "def getTokenized(ids):\n",
    "    exclude = set(string.punctuation)\n",
    "    words_list = []\n",
    "    for id in ids:\n",
    "        raw = reuters.raw(id)\n",
    "        raw = raw.encode('ascii', 'ignore').decode('unicode_escape')\n",
    "#         raw = unicodedata.normalize('NFKD', raw).encode('ascii','ignore')\n",
    "        words = nltk.word_tokenize(raw)\n",
    "        words_nopunc_nonum = []\n",
    "        for word in words:\n",
    "            if word in exclude: # if punctuation\n",
    "                continue\n",
    "            else:\n",
    "                word = word.lower()\n",
    "                if(isNumber(word)): # if number\n",
    "                    continue\n",
    "#                     word = \"###\"\n",
    "                words_nopunc_nonum.append(word)\n",
    "        words_list.append(words_nopunc_nonum)\n",
    "    return words_list\n",
    "\n",
    "\n",
    "def getVocabulary(tokenized_corpus):\n",
    "    vocabulary = {}\n",
    "    for sentence in tokenized_corpus:\n",
    "        for token in sentence:\n",
    "            if token not in vocabulary:\n",
    "                vocabulary[token] = 1\n",
    "            else:\n",
    "                vocabulary[token] += 1\n",
    "    word2id = {w: idx for (idx, w) in enumerate(vocabulary)}\n",
    "    id2word = {idx: w for (idx, w) in enumerate(vocabulary)}\n",
    "    return vocabulary, word2id, id2word\n",
    "\n",
    "def generatePairs(sentences_tokenized, word2id, id2word, vocabulary):\n",
    "    window_size = 3\n",
    "    idx_pairs = []\n",
    "    # for each sentence\n",
    "    for sentence in sentences_tokenized:\n",
    "        indices = [word2id[word] for word in sentence]\n",
    "        # for each word, treated as center word\n",
    "        for center_word_pos in range(len(indices)):\n",
    "            # for each window position\n",
    "            word = id2word[indices[center_word_pos]]\n",
    "            freq = vocabulary[word]/len(vocabulary)\n",
    "            temp = freq/0.001\n",
    "            prob_to_keep = (temp**0.5 + 1)/temp\n",
    "            p = random.uniform(0, 1)\n",
    "            if(p > prob_to_keep):\n",
    "                continue\n",
    "            for w in range(-window_size, window_size + 1):\n",
    "                context_word_pos = center_word_pos + w\n",
    "                # make sure to not jump out of sentence\n",
    "                if context_word_pos < 0 or context_word_pos >= len(indices) or center_word_pos == context_word_pos:\n",
    "                    continue\n",
    "                context_word_idx = indices[context_word_pos]\n",
    "                idx_pairs.append((indices[center_word_pos], context_word_idx))\n",
    "    return idx_pairs\n",
    "\n",
    "def writeToFile(vocabulary, word2id, id2word, pairs):\n",
    "    f1 = open('data/vocab_nonum.txt', 'w')\n",
    "    f2 = open('data/word2id_nonum.txt', 'w')\n",
    "    f3 = open('data/id2word_nonum.txt', 'w')\n",
    "\n",
    "    for key, value in vocabulary.items():\n",
    "        f1.write(key + '\\t' + str(value) + '\\n')\n",
    "    for key, value in word2id.items():\n",
    "        f2.write(key + '\\t' + str(value) + '\\n')\n",
    "    for key, value in id2word.items():\n",
    "        f3.write(str(key) + '\\t' + value + '\\n')\n",
    "\n",
    "    f4 = open(\"data/pairs_subsampled_nonum.txt\", \"w\")\n",
    "    for pair in pairs:\n",
    "        f4.write(str(pair[0]) + '\\t' + str(pair[1]) + '\\n')\n",
    "    f4.close()\n",
    "    f3.close()\n",
    "    f2.close()\n",
    "    f1.close()\n",
    "\n",
    "\n",
    "\n",
    "print('Getting ids')\n",
    "fileids = reuters.fileids()\n",
    "testids, trainids = getTestTrain(fileids)\n",
    "print('Tokenizing')\n",
    "# sentences_tokenized = getTokenized(trainids)\n",
    "sentences_tokenized = getTokenized(fileids)\n",
    "\n",
    "print('Generating vocab')\n",
    "vocabulary, word2id, id2word = getVocabulary(sentences_tokenized)\n",
    "\n",
    "pairs = generatePairs(sentences_tokenized, word2id, id2word, vocabulary)\n",
    "\n",
    "\n",
    "print('Writing data to files')\n",
    "writeToFile(vocabulary, word2id, id2word, pairs)\n",
    "\n",
    "\n",
    "\n",
    "\n",
    "\n",
    "\n",
    "\n"
   ]
  },
  {
   "cell_type": "code",
   "execution_count": 15,
   "metadata": {},
   "outputs": [],
   "source": []
  },
  {
   "cell_type": "code",
   "execution_count": 42,
   "metadata": {},
   "outputs": [
    {
     "data": {
      "text/plain": [
       "34056"
      ]
     },
     "execution_count": 42,
     "metadata": {},
     "output_type": "execute_result"
    }
   ],
   "source": [
    "len(vocabulary)"
   ]
  },
  {
   "cell_type": "code",
   "execution_count": 44,
   "metadata": {},
   "outputs": [
    {
     "data": {
      "text/plain": [
       "1773468"
      ]
     },
     "execution_count": 44,
     "metadata": {},
     "output_type": "execute_result"
    }
   ],
   "source": [
    "len(pairs)"
   ]
  },
  {
   "cell_type": "code",
   "execution_count": null,
   "metadata": {},
   "outputs": [],
   "source": []
  }
 ],
 "metadata": {
  "kernelspec": {
   "display_name": "Python 3",
   "language": "python",
   "name": "python3"
  },
  "language_info": {
   "codemirror_mode": {
    "name": "ipython",
    "version": 3
   },
   "file_extension": ".py",
   "mimetype": "text/x-python",
   "name": "python",
   "nbconvert_exporter": "python",
   "pygments_lexer": "ipython3",
   "version": "3.5.2"
  }
 },
 "nbformat": 4,
 "nbformat_minor": 2
}
