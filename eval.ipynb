{
 "cells": [
  {
   "cell_type": "code",
   "execution_count": null,
   "metadata": {},
   "outputs": [],
   "source": [
    "import numpy as np\n",
    "import nltk\n",
    "from nltk.corpus import reuters\n",
    "import string\n",
    "import re\n",
    "from random import randint\n",
    "import math\n",
    "import argparse, sys\n",
    "import time\n",
    "\n",
    "W = np.loadtxt('data/W_NEG_15_DIM_300_EPOCHS_100_cont2.txt')"
   ]
  },
  {
   "cell_type": "code",
   "execution_count": 40,
   "metadata": {},
   "outputs": [
    {
     "data": {
      "text/plain": [
       "300"
      ]
     },
     "execution_count": 40,
     "metadata": {},
     "output_type": "execute_result"
    }
   ],
   "source": [
    "len(W)"
   ]
  },
  {
   "cell_type": "code",
   "execution_count": 41,
   "metadata": {},
   "outputs": [
    {
     "data": {
      "text/plain": [
       "28354"
      ]
     },
     "execution_count": 41,
     "metadata": {},
     "output_type": "execute_result"
    }
   ],
   "source": [
    "len(W[0])"
   ]
  },
  {
   "cell_type": "code",
   "execution_count": 4,
   "metadata": {},
   "outputs": [],
   "source": [
    "def cosineDistance(x, y):\n",
    "    s = np.dot(x,y)\n",
    "    s = s/((np.dot(x,x))**0.5)\n",
    "    s = s/((np.dot(y,y))**0.5)\n",
    "    return s\n",
    "\n",
    "def cosineDistanceString(s1, s2, W, word2id):\n",
    "    x = W[word2id[s1]]\n",
    "    y = W[word2id[s2]]\n",
    "    return cosineDistance(x, y)"
   ]
  },
  {
   "cell_type": "code",
   "execution_count": 5,
   "metadata": {},
   "outputs": [],
   "source": [
    "def readVocabulary(fileName):\n",
    "    f1 = open(fileName, \"r\")\n",
    "    vocab = {}\n",
    "    for line in f1:\n",
    "        v = line.strip().split('\\t')\n",
    "        vocab[v[0]] = int(v[1])\n",
    "    f1.close()\n",
    "    return vocab\n",
    "\n",
    "def readWord2id(fileName):\n",
    "    f1 = open(fileName, \"r\")\n",
    "    word2id = {}\n",
    "    for line in f1:\n",
    "        v = line.strip().split('\\t')\n",
    "        word2id[v[0]] = int(v[1])\n",
    "    f1.close()\n",
    "    return word2id\n",
    "\n",
    "def readId2word(fileName):\n",
    "    f1 = open(fileName, \"r\")\n",
    "    id2word = {}\n",
    "    for line in f1:\n",
    "        v = line.strip().split('\\t')\n",
    "        id2word[int(v[0])] = v[1]\n",
    "    f1.close()\n",
    "    return id2word\n",
    "\n",
    "def readAll():\n",
    "    vocab = readVocabulary('data/vocab.txt')\n",
    "    word2id = readWord2id('data/word2id.txt')\n",
    "    id2word = readId2word('data/id2word.txt')\n",
    "    return vocab, word2id, id2word\n"
   ]
  },
  {
   "cell_type": "code",
   "execution_count": 6,
   "metadata": {},
   "outputs": [],
   "source": [
    "vocab, word2id, id2word = readAll()\n"
   ]
  },
  {
   "cell_type": "code",
   "execution_count": 7,
   "metadata": {},
   "outputs": [
    {
     "data": {
      "text/plain": [
       "28354"
      ]
     },
     "execution_count": 7,
     "metadata": {},
     "output_type": "execute_result"
    }
   ],
   "source": [
    "len(word2id)"
   ]
  },
  {
   "cell_type": "code",
   "execution_count": null,
   "metadata": {},
   "outputs": [],
   "source": [
    "W = W.T"
   ]
  },
  {
   "cell_type": "code",
   "execution_count": 12,
   "metadata": {},
   "outputs": [],
   "source": [
    "\n",
    "embedding_king = W[word2id['queen']]"
   ]
  },
  {
   "cell_type": "code",
   "execution_count": 13,
   "metadata": {},
   "outputs": [
    {
     "data": {
      "text/plain": [
       "'so'"
      ]
     },
     "execution_count": 13,
     "metadata": {},
     "output_type": "execute_result"
    }
   ],
   "source": [
    "word_to_eval = 'far'\n",
    "closest_word = ''\n",
    "closest_word_dist = -9999\n",
    "for i in range(len(W)):\n",
    "    word = id2word[i]\n",
    "    dist = cosineDistance(W[word2id[word_to_eval]], W[i])\n",
    "    if(dist > closest_word_dist and i != word2id[word_to_eval] and i != word2id['craft']):\n",
    "        closest_word_dist = dist\n",
    "        closest_word = word\n",
    "closest_word\n",
    "\n"
   ]
  },
  {
   "cell_type": "code",
   "execution_count": 20,
   "metadata": {},
   "outputs": [
    {
     "data": {
      "text/plain": [
       "0.18763342851069334"
      ]
     },
     "execution_count": 20,
     "metadata": {},
     "output_type": "execute_result"
    }
   ],
   "source": [
    "cosineDistanceString('good', 'bad', W, word2id)"
   ]
  },
  {
   "cell_type": "code",
   "execution_count": 21,
   "metadata": {},
   "outputs": [
    {
     "data": {
      "text/plain": [
       "0.12729128717000557"
      ]
     },
     "execution_count": 21,
     "metadata": {},
     "output_type": "execute_result"
    }
   ],
   "source": [
    "cosineDistance(W[word2id['queen']],W[word2id['king']])"
   ]
  },
  {
   "cell_type": "code",
   "execution_count": 82,
   "metadata": {},
   "outputs": [],
   "source": [
    "C = np.loadtxt('data/C_NEG_15_DIM_300_EPOCHS_100_cont2.txt')"
   ]
  },
  {
   "cell_type": "code",
   "execution_count": 22,
   "metadata": {},
   "outputs": [],
   "source": [
    "def findClosest(word_to_eval, W, word2id, id2word):\n",
    "    closest_word = ''\n",
    "    closest_word_dist = -9999\n",
    "    for i in range(len(W)):\n",
    "        word = id2word[i]\n",
    "        dist = cosineDistance(W[word2id[word_to_eval]], W[i])\n",
    "        if(dist > closest_word_dist and i != word2id[word_to_eval]):\n",
    "            closest_word_dist = dist\n",
    "            closest_word = word\n",
    "    return closest_word\n"
   ]
  },
  {
   "cell_type": "code",
   "execution_count": 23,
   "metadata": {},
   "outputs": [
    {
     "data": {
      "text/plain": [
       "'schenker'"
      ]
     },
     "execution_count": 23,
     "metadata": {},
     "output_type": "execute_result"
    }
   ],
   "source": [
    "ans = findClosest('but', W, word2id, id2word)\n",
    "ans"
   ]
  },
  {
   "cell_type": "code",
   "execution_count": 26,
   "metadata": {},
   "outputs": [
    {
     "data": {
      "text/plain": [
       "0.3456299886244699"
      ]
     },
     "execution_count": 26,
     "metadata": {},
     "output_type": "execute_result"
    }
   ],
   "source": [
    "cosineDistanceString('but', 'schenker', W, word2id)"
   ]
  },
  {
   "cell_type": "code",
   "execution_count": 27,
   "metadata": {},
   "outputs": [],
   "source": [
    "f = open(\"SimLex-999.txt\", \"r\")\n",
    "scores = []\n",
    "i = 0\n",
    "for line in f:\n",
    "    i+= 1\n",
    "    if(i == 1):\n",
    "        continue\n",
    "    line = line.strip()\n",
    "    tokens = line.split('\\t')\n",
    "    sample = {}\n",
    "    sample['w1'] = tokens[0]\n",
    "    sample['w2'] = tokens[1]\n",
    "    sample['score'] = float(tokens[3])\n",
    "    if sample['w1'] in vocab and sample['w2'] in vocab:\n",
    "        scores.append(sample)"
   ]
  },
  {
   "cell_type": "code",
   "execution_count": 43,
   "metadata": {},
   "outputs": [
    {
     "data": {
      "text/plain": [
       "617"
      ]
     },
     "execution_count": 43,
     "metadata": {},
     "output_type": "execute_result"
    }
   ],
   "source": [
    "len(scores)"
   ]
  },
  {
   "cell_type": "code",
   "execution_count": 44,
   "metadata": {},
   "outputs": [
    {
     "data": {
      "text/plain": [
       "0.043968636652993796"
      ]
     },
     "execution_count": 44,
     "metadata": {},
     "output_type": "execute_result"
    }
   ],
   "source": [
    "from scipy.stats import pearsonr\n",
    "predicted_scores = []\n",
    "simlex_score = []\n",
    "for sample in scores:\n",
    "    w1 = sample['w1']\n",
    "    w2 = sample['w2']\n",
    "    predicted_scores.append(cosineDistanceString(w1, w2, W, word2id))\n",
    "    simlex_score.append(sample['score'])\n",
    "corr, p_value = pearsonr(simlex_score, predicted_scores)\n",
    "corr"
   ]
  },
  {
   "cell_type": "code",
   "execution_count": 31,
   "metadata": {},
   "outputs": [],
   "source": [
    "C = np.loadtxt('data/C_NEG_15_DIM_300_EPOCHS_100_cont2.txt')"
   ]
  },
  {
   "cell_type": "code",
   "execution_count": 35,
   "metadata": {},
   "outputs": [],
   "source": [
    "avg = (W+C)/2"
   ]
  },
  {
   "cell_type": "code",
   "execution_count": null,
   "metadata": {},
   "outputs": [],
   "source": []
  }
 ],
 "metadata": {
  "kernelspec": {
   "display_name": "Python 3",
   "language": "python",
   "name": "python3"
  },
  "language_info": {
   "codemirror_mode": {
    "name": "ipython",
    "version": 3
   },
   "file_extension": ".py",
   "mimetype": "text/x-python",
   "name": "python",
   "nbconvert_exporter": "python",
   "pygments_lexer": "ipython3",
   "version": "3.5.2"
  }
 },
 "nbformat": 4,
 "nbformat_minor": 2
}
