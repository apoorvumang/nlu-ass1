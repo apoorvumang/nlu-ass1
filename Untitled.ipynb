{
 "cells": [
  {
   "cell_type": "code",
   "execution_count": 2,
   "metadata": {},
   "outputs": [],
   "source": [
    "import nltk"
   ]
  },
  {
   "cell_type": "code",
   "execution_count": 3,
   "metadata": {},
   "outputs": [],
   "source": [
    "from nltk.corpus import reuters"
   ]
  },
  {
   "cell_type": "code",
   "execution_count": 4,
   "metadata": {},
   "outputs": [
    {
     "data": {
      "text/plain": [
       "<CategorizedPlaintextCorpusReader in u'/Users/apoorv/nltk_data/corpora/reuters.zip/reuters/'>"
      ]
     },
     "execution_count": 4,
     "metadata": {},
     "output_type": "execute_result"
    }
   ],
   "source": [
    "reuters"
   ]
  },
  {
   "cell_type": "code",
   "execution_count": 5,
   "metadata": {},
   "outputs": [
    {
     "data": {
      "text/plain": [
       "'test/14826'"
      ]
     },
     "execution_count": 5,
     "metadata": {},
     "output_type": "execute_result"
    }
   ],
   "source": [
    "reuters.fileids()[0]"
   ]
  },
  {
   "cell_type": "code",
   "execution_count": 6,
   "metadata": {},
   "outputs": [
    {
     "data": {
      "text/plain": [
       "[u'acq',\n",
       " u'alum',\n",
       " u'barley',\n",
       " u'bop',\n",
       " u'carcass',\n",
       " u'castor-oil',\n",
       " u'cocoa',\n",
       " u'coconut',\n",
       " u'coconut-oil',\n",
       " u'coffee',\n",
       " u'copper',\n",
       " u'copra-cake',\n",
       " u'corn',\n",
       " u'cotton',\n",
       " u'cotton-oil',\n",
       " u'cpi',\n",
       " u'cpu',\n",
       " u'crude',\n",
       " u'dfl',\n",
       " u'dlr',\n",
       " u'dmk',\n",
       " u'earn',\n",
       " u'fuel',\n",
       " u'gas',\n",
       " u'gnp',\n",
       " u'gold',\n",
       " u'grain',\n",
       " u'groundnut',\n",
       " u'groundnut-oil',\n",
       " u'heat',\n",
       " u'hog',\n",
       " u'housing',\n",
       " u'income',\n",
       " u'instal-debt',\n",
       " u'interest',\n",
       " u'ipi',\n",
       " u'iron-steel',\n",
       " u'jet',\n",
       " u'jobs',\n",
       " u'l-cattle',\n",
       " u'lead',\n",
       " u'lei',\n",
       " u'lin-oil',\n",
       " u'livestock',\n",
       " u'lumber',\n",
       " u'meal-feed',\n",
       " u'money-fx',\n",
       " u'money-supply',\n",
       " u'naphtha',\n",
       " u'nat-gas',\n",
       " u'nickel',\n",
       " u'nkr',\n",
       " u'nzdlr',\n",
       " u'oat',\n",
       " u'oilseed',\n",
       " u'orange',\n",
       " u'palladium',\n",
       " u'palm-oil',\n",
       " u'palmkernel',\n",
       " u'pet-chem',\n",
       " u'platinum',\n",
       " u'potato',\n",
       " u'propane',\n",
       " u'rand',\n",
       " u'rape-oil',\n",
       " u'rapeseed',\n",
       " u'reserves',\n",
       " u'retail',\n",
       " u'rice',\n",
       " u'rubber',\n",
       " u'rye',\n",
       " u'ship',\n",
       " u'silver',\n",
       " u'sorghum',\n",
       " u'soy-meal',\n",
       " u'soy-oil',\n",
       " u'soybean',\n",
       " u'strategic-metal',\n",
       " u'sugar',\n",
       " u'sun-meal',\n",
       " u'sun-oil',\n",
       " u'sunseed',\n",
       " u'tea',\n",
       " u'tin',\n",
       " u'trade',\n",
       " u'veg-oil',\n",
       " u'wheat',\n",
       " u'wpi',\n",
       " u'yen',\n",
       " u'zinc']"
      ]
     },
     "execution_count": 6,
     "metadata": {},
     "output_type": "execute_result"
    }
   ],
   "source": [
    "reuters.categories()"
   ]
  },
  {
   "cell_type": "code",
   "execution_count": 7,
   "metadata": {},
   "outputs": [
    {
     "data": {
      "text/plain": [
       "[u'barley', u'corn', u'grain', u'money-fx', u'wheat']"
      ]
     },
     "execution_count": 7,
     "metadata": {},
     "output_type": "execute_result"
    }
   ],
   "source": [
    "reuters.categories(['training/9865', 'training/9880'])"
   ]
  },
  {
   "cell_type": "code",
   "execution_count": 8,
   "metadata": {},
   "outputs": [
    {
     "data": {
      "text/plain": [
       "[u'test/14832',\n",
       " u'test/14858',\n",
       " u'test/15033',\n",
       " u'test/15043',\n",
       " u'test/15106',\n",
       " u'test/15287',\n",
       " u'test/15341',\n",
       " u'test/15618',\n",
       " u'test/15648',\n",
       " u'test/15649',\n",
       " u'test/15676',\n",
       " u'test/15686',\n",
       " u'test/15720',\n",
       " u'test/15728',\n",
       " u'test/15845',\n",
       " u'test/15856',\n",
       " u'test/15860',\n",
       " u'test/15863',\n",
       " u'test/15871',\n",
       " u'test/15875',\n",
       " u'test/15877',\n",
       " u'test/15890',\n",
       " u'test/15904',\n",
       " u'test/15906',\n",
       " u'test/15910',\n",
       " u'test/15911',\n",
       " u'test/15917',\n",
       " u'test/15952',\n",
       " u'test/15999',\n",
       " u'test/16012',\n",
       " u'test/16071',\n",
       " u'test/16099',\n",
       " u'test/16147',\n",
       " u'test/16525',\n",
       " u'test/16624',\n",
       " u'test/16751',\n",
       " u'test/16765',\n",
       " u'test/17503',\n",
       " u'test/17509',\n",
       " u'test/17722',\n",
       " u'test/17767',\n",
       " u'test/17769',\n",
       " u'test/18024',\n",
       " u'test/18035',\n",
       " u'test/18263',\n",
       " u'test/18482',\n",
       " u'test/18614',\n",
       " u'test/18908',\n",
       " u'test/18954',\n",
       " u'test/18973',\n",
       " u'test/19165',\n",
       " u'test/19275',\n",
       " u'test/19668',\n",
       " u'test/19721',\n",
       " u'test/19821',\n",
       " u'test/20018',\n",
       " u'test/20366',\n",
       " u'test/20637',\n",
       " u'test/20645',\n",
       " u'test/20649',\n",
       " u'test/20723',\n",
       " u'test/20763',\n",
       " u'test/21091',\n",
       " u'test/21243',\n",
       " u'test/21493',\n",
       " u'training/10120',\n",
       " u'training/10139',\n",
       " u'training/10172',\n",
       " u'training/10175',\n",
       " u'training/10319',\n",
       " u'training/10339',\n",
       " u'training/10487',\n",
       " u'training/10489',\n",
       " u'training/10519',\n",
       " u'training/1067',\n",
       " u'training/10701',\n",
       " u'training/10882',\n",
       " u'training/10956',\n",
       " u'training/11012',\n",
       " u'training/11085',\n",
       " u'training/11091',\n",
       " u'training/11208',\n",
       " u'training/11269',\n",
       " u'training/1131',\n",
       " u'training/11316',\n",
       " u'training/11392',\n",
       " u'training/11436',\n",
       " u'training/11607',\n",
       " u'training/11612',\n",
       " u'training/11729',\n",
       " u'training/11739',\n",
       " u'training/11769',\n",
       " u'training/11885',\n",
       " u'training/11936',\n",
       " u'training/11939',\n",
       " u'training/11964',\n",
       " u'training/12002',\n",
       " u'training/12052',\n",
       " u'training/12055',\n",
       " u'training/1215',\n",
       " u'training/12160',\n",
       " u'training/12311',\n",
       " u'training/12323',\n",
       " u'training/12372',\n",
       " u'training/12417',\n",
       " u'training/12428',\n",
       " u'training/12436',\n",
       " u'training/12500',\n",
       " u'training/12583',\n",
       " u'training/12587',\n",
       " u'training/1268',\n",
       " u'training/1273',\n",
       " u'training/12872',\n",
       " u'training/13099',\n",
       " u'training/13173',\n",
       " u'training/13179',\n",
       " u'training/1369',\n",
       " u'training/13744',\n",
       " u'training/13795',\n",
       " u'training/1385',\n",
       " u'training/13852',\n",
       " u'training/13856',\n",
       " u'training/1395',\n",
       " u'training/1399',\n",
       " u'training/14483',\n",
       " u'training/1582',\n",
       " u'training/1652',\n",
       " u'training/1777',\n",
       " u'training/1843',\n",
       " u'training/193',\n",
       " u'training/1952',\n",
       " u'training/197',\n",
       " u'training/1970',\n",
       " u'training/2044',\n",
       " u'training/2171',\n",
       " u'training/2172',\n",
       " u'training/2183',\n",
       " u'training/2191',\n",
       " u'training/2217',\n",
       " u'training/2232',\n",
       " u'training/2264',\n",
       " u'training/235',\n",
       " u'training/2382',\n",
       " u'training/2436',\n",
       " u'training/2456',\n",
       " u'training/2595',\n",
       " u'training/2599',\n",
       " u'training/2617',\n",
       " u'training/2727',\n",
       " u'training/2741',\n",
       " u'training/2749',\n",
       " u'training/2777',\n",
       " u'training/2848',\n",
       " u'training/2913',\n",
       " u'training/2922',\n",
       " u'training/2947',\n",
       " u'training/3132',\n",
       " u'training/3138',\n",
       " u'training/3191',\n",
       " u'training/327',\n",
       " u'training/3282',\n",
       " u'training/3299',\n",
       " u'training/3306',\n",
       " u'training/3324',\n",
       " u'training/3330',\n",
       " u'training/3337',\n",
       " u'training/3358',\n",
       " u'training/3401',\n",
       " u'training/3429',\n",
       " u'training/3847',\n",
       " u'training/3855',\n",
       " u'training/3881',\n",
       " u'training/3949',\n",
       " u'training/395',\n",
       " u'training/3979',\n",
       " u'training/3981',\n",
       " u'training/4047',\n",
       " u'training/4133',\n",
       " u'training/4280',\n",
       " u'training/4289',\n",
       " u'training/4296',\n",
       " u'training/4382',\n",
       " u'training/4490',\n",
       " u'training/4599',\n",
       " u'training/4825',\n",
       " u'training/4905',\n",
       " u'training/4939',\n",
       " u'training/4988',\n",
       " u'training/5',\n",
       " u'training/5003',\n",
       " u'training/501',\n",
       " u'training/5017',\n",
       " u'training/5033',\n",
       " u'training/5109',\n",
       " u'training/516',\n",
       " u'training/5185',\n",
       " u'training/5338',\n",
       " u'training/5467',\n",
       " u'training/5518',\n",
       " u'training/5531',\n",
       " u'training/5606',\n",
       " u'training/5610',\n",
       " u'training/5636',\n",
       " u'training/5637',\n",
       " u'training/5640',\n",
       " u'training/57',\n",
       " u'training/5847',\n",
       " u'training/5933',\n",
       " u'training/6',\n",
       " u'training/6142',\n",
       " u'training/6221',\n",
       " u'training/6236',\n",
       " u'training/6239',\n",
       " u'training/6259',\n",
       " u'training/6269',\n",
       " u'training/6386',\n",
       " u'training/6585',\n",
       " u'training/6588',\n",
       " u'training/6626',\n",
       " u'training/6735',\n",
       " u'training/6890',\n",
       " u'training/6897',\n",
       " u'training/694',\n",
       " u'training/7062',\n",
       " u'training/7205',\n",
       " u'training/7215',\n",
       " u'training/7336',\n",
       " u'training/7387',\n",
       " u'training/7389',\n",
       " u'training/7390',\n",
       " u'training/7395',\n",
       " u'training/7579',\n",
       " u'training/7700',\n",
       " u'training/7792',\n",
       " u'training/7917',\n",
       " u'training/7934',\n",
       " u'training/7943',\n",
       " u'training/8004',\n",
       " u'training/8140',\n",
       " u'training/8161',\n",
       " u'training/8166',\n",
       " u'training/8213',\n",
       " u'training/8257',\n",
       " u'training/8273',\n",
       " u'training/8400',\n",
       " u'training/8443',\n",
       " u'training/8446',\n",
       " u'training/8535',\n",
       " u'training/855',\n",
       " u'training/8759',\n",
       " u'training/8941',\n",
       " u'training/8983',\n",
       " u'training/8993',\n",
       " u'training/9058',\n",
       " u'training/9093',\n",
       " u'training/9094',\n",
       " u'training/934',\n",
       " u'training/9470',\n",
       " u'training/9521',\n",
       " u'training/9667',\n",
       " u'training/97',\n",
       " u'training/9865',\n",
       " u'training/9958',\n",
       " u'training/9989']"
      ]
     },
     "execution_count": 8,
     "metadata": {},
     "output_type": "execute_result"
    }
   ],
   "source": [
    "reuters.fileids(['barley', 'corn'])"
   ]
  },
  {
   "cell_type": "code",
   "execution_count": 9,
   "metadata": {},
   "outputs": [
    {
     "data": {
      "text/plain": [
       "<CategorizedPlaintextCorpusReader in u'/Users/apoorv/nltk_data/corpora/reuters.zip/reuters/'>"
      ]
     },
     "execution_count": 9,
     "metadata": {},
     "output_type": "execute_result"
    }
   ],
   "source": [
    "reuters"
   ]
  },
  {
   "cell_type": "code",
   "execution_count": 10,
   "metadata": {},
   "outputs": [],
   "source": [
    "words = reuters.words('test/15033')"
   ]
  },
  {
   "cell_type": "code",
   "execution_count": 11,
   "metadata": {},
   "outputs": [
    {
     "name": "stdout",
     "output_type": "stream",
     "text": [
      "[u'ZAMBIA', u'DOES', u'NOT', u'PLAN', u'RETAIL', ...]\n"
     ]
    }
   ],
   "source": [
    "print words"
   ]
  },
  {
   "cell_type": "code",
   "execution_count": 12,
   "metadata": {},
   "outputs": [
    {
     "name": "stdout",
     "output_type": "stream",
     "text": [
      "202\n"
     ]
    }
   ],
   "source": [
    "print len(words)"
   ]
  },
  {
   "cell_type": "code",
   "execution_count": 13,
   "metadata": {},
   "outputs": [
    {
     "name": "stdout",
     "output_type": "stream",
     "text": [
      "[u'ZAMBIA', u'DOES', u'NOT', u'PLAN', u'RETAIL', u'MAIZE', u'PRICE', u'HIKE', u'The', u'Zambian', u'government', u'has', u'no', u'immediate', u'plans', u'to', u'follow', u'last', u'week', u\"'\"]\n"
     ]
    }
   ],
   "source": [
    "print words[:20]"
   ]
  },
  {
   "cell_type": "code",
   "execution_count": 14,
   "metadata": {},
   "outputs": [],
   "source": [
    "raw = reuters.raw('test/15033')"
   ]
  },
  {
   "cell_type": "code",
   "execution_count": 15,
   "metadata": {},
   "outputs": [
    {
     "name": "stdout",
     "output_type": "stream",
     "text": [
      "ZAMBIA DOES NOT PLAN RETAIL MAIZE PRICE HIKE\n",
      "  The Zambian government has no immediate\n",
      "  plans to follow last week's increase in the producer price of\n",
      "  maize with a hike in the retail price of maize meal, an\n",
      "  official of the ruling party said.\n",
      "      Last December, a 120 pct increase in the consumer price for\n",
      "  refined maize meal, a Zambian staple, led to food riots in\n",
      "  which at least 15 people died.\n",
      "      That price increase, which President Kenneth Kaunda later\n",
      "  revoked, followed pressure by the International Monetary Fund\n",
      "  (IMF) to reduce the government's subsidy bill.\n",
      "      However, if the producer price rise, from 6.10 dlrs to 8.67\n",
      "  dlrs per 90-kg bag, is not accompanied by a retail price\n",
      "  increase, the government will have to spend more on subsidies,\n",
      "  a practice discouraged by the IMF.\n",
      "      \"There is no way out but to raise the subsidy levels of\n",
      "  meal. It (the government) would have to choose between the\n",
      "  demands of the IMF and those of the people,\" a Ministry of\n",
      "  Agriculture economist said.\n",
      "  \n",
      "\n",
      "\n"
     ]
    }
   ],
   "source": [
    "print raw"
   ]
  },
  {
   "cell_type": "code",
   "execution_count": 16,
   "metadata": {},
   "outputs": [
    {
     "name": "stdout",
     "output_type": "stream",
     "text": [
      "[u'ZAMBIA', u'DOES', u'NOT', u'PLAN', u'RETAIL', u'MAIZE', u'PRICE', u'HIKE', u'The', u'Zambian', u'government', u'has', u'no', u'immediate', u'plans', u'to', u'follow', u'last', u'week', u\"'\", u's', u'increase', u'in', u'the', u'producer', u'price', u'of', u'maize', u'with', u'a', u'hike', u'in', u'the', u'retail', u'price', u'of', u'maize', u'meal', u',', u'an', u'official', u'of', u'the', u'ruling', u'party', u'said', u'.', u'Last', u'December', u',']\n"
     ]
    }
   ],
   "source": [
    "print words[:50]"
   ]
  },
  {
   "cell_type": "code",
   "execution_count": null,
   "metadata": {},
   "outputs": [],
   "source": []
  }
 ],
 "metadata": {
  "kernelspec": {
   "display_name": "Python 2",
   "language": "python",
   "name": "python2"
  },
  "language_info": {
   "codemirror_mode": {
    "name": "ipython",
    "version": 2
   },
   "file_extension": ".py",
   "mimetype": "text/x-python",
   "name": "python",
   "nbconvert_exporter": "python",
   "pygments_lexer": "ipython2",
   "version": "2.7.10"
  }
 },
 "nbformat": 4,
 "nbformat_minor": 2
}
